{
  "nbformat": 4,
  "nbformat_minor": 0,
  "metadata": {
    "colab": {
      "provenance": [],
      "authorship_tag": "ABX9TyPkLxb404T17Hul1DJ6AtJI",
      "include_colab_link": true
    },
    "kernelspec": {
      "name": "python3",
      "display_name": "Python 3"
    },
    "language_info": {
      "name": "python"
    }
  },
  "cells": [
    {
      "cell_type": "markdown",
      "metadata": {
        "id": "view-in-github",
        "colab_type": "text"
      },
      "source": [
        "<a href=\"https://colab.research.google.com/github/beyounding/dyslexia_projects/blob/main/dyslexia_script_.ipynb\" target=\"_parent\"><img src=\"https://colab.research.google.com/assets/colab-badge.svg\" alt=\"Open In Colab\"/></a>"
      ]
    },
    {
      "cell_type": "markdown",
      "source": [
        "# **Algorithms for selecting exercises for the dyslexia intervention**\n",
        "\n",
        "***Architecture***:\n",
        "\n",
        "*   pre-processing of data after screening\n",
        "*   algorithms select 5 exercises for reading difficulties\n",
        "*   algorithms generate the text of the task\n",
        "\n",
        "Input Sources:\n",
        "\n",
        "*Classification of dyslexia and exercise errors*: R.I. Lalaeva, T.E. Egorov + classification of the original dataset proposed by the authors\n",
        "Rello L, Baeza-Yates R, Ali A, Bigham JP, Serra M (2020) Predicting risk of dyslexia with an online gamified test. PLOS ONE 15(12): e0241687. https://doi.org/10.1371/journal.pone.0241687\n",
        "\n",
        "\n",
        "*Screening Data*: https://www.kaggle.com/datasets/luzrello/dyslexia\n",
        "\n",
        "\n",
        "\n",
        "\n",
        "\n"
      ],
      "metadata": {
        "id": "4fjUXoJhzFxm"
      }
    },
    {
      "cell_type": "markdown",
      "source": [
        "**Data preprocessing**"
      ],
      "metadata": {
        "id": "VkYgDHsNoxa-"
      }
    },
    {
      "cell_type": "code",
      "source": [
        "import pandas as pd\n",
        "import numpy as np"
      ],
      "metadata": {
        "id": "LsasnNr_w86r"
      },
      "execution_count": null,
      "outputs": []
    },
    {
      "cell_type": "code",
      "source": [
        "df = pd.read_csv('/content/входной_скриннинг.csv') "
      ],
      "metadata": {
        "id": "ZZtJm1DBxA1g"
      },
      "execution_count": null,
      "outputs": []
    },
    {
      "cell_type": "code",
      "source": [
        "for name, values in df.iteritems():\n",
        "  df.loc[df[name] > 1, name] = 1"
      ],
      "metadata": {
        "id": "7XIS7qd6xCUm"
      },
      "execution_count": null,
      "outputs": []
    },
    {
      "cell_type": "code",
      "source": [
        "df['F1'] = (df['F'] + df['F.2']+df['F.2']+df['F.3'])/3\n",
        "df['S2'] = (df['S'] + df['S.1']+df['S.2']+df['S.3']+df['S.3']+df['S.4']+df['S.5']+df['S.6']+df['S.7']+df['S.8'])/10\n",
        "df['F3'] = (df['F.4'] + df['F.5']+df['F.6']+df['F.7'])/4\n",
        "df['S4'] = (df['S.9'] + df['S.10']+df['S.11']+df['S.12'])/4\n",
        "df['F5'] = (df['F.8'] + df['F.9']+df['F.10']+df['F.11'])/4\n",
        "df['S6'] = (df['S.13'] + df['S.14']+df['S.15'])/3\n",
        "df['F7'] = (df['F.12'] + df['F.13'])/2\n",
        "df['S8'] = (df['S.15'] + df['S.16'])/2\n",
        "df.head()"
      ],
      "metadata": {
        "colab": {
          "base_uri": "https://localhost:8080/",
          "height": 235
        },
        "id": "PLcmSpd9xFLc",
        "outputId": "ddc365a8-d8bb-49e7-971c-b308b83bb1c4"
      },
      "execution_count": null,
      "outputs": [
        {
          "output_type": "execute_result",
          "data": {
            "text/plain": [
              "          F       F.1   F.2  F.3    S  S.1  S.2       S.3  S.4  S.5  ...  \\\n",
              "0  1.000000  1.000000  1.00  1.0  1.0  1.0  0.8  0.833333  0.8  1.0  ...   \n",
              "1  1.000000  1.000000  1.00  0.0  1.0  0.0  1.0  1.000000  0.0  1.0  ...   \n",
              "2  0.250000  0.250000  0.00  0.6  1.0  1.0  1.0  1.000000  1.0  0.0  ...   \n",
              "3  1.000000  1.000000  1.00  1.0  1.0  0.8  1.0  1.000000  1.0  1.0  ...   \n",
              "4  0.166667  0.222222  0.15  1.0  0.8  1.0  1.0  0.571429  1.0  1.0  ...   \n",
              "\n",
              "       S.16      S.17        F1        S2        F3        S4        F5  \\\n",
              "0  0.114286  0.076923  1.333333  0.906667  1.000000  0.604167  0.819445   \n",
              "1  0.000000  0.115385  1.000000  0.666667  1.000000  0.000000  0.666667   \n",
              "2  0.000000  1.000000  0.283333  0.900000  1.000000  0.750000  0.625000   \n",
              "3  0.035088  0.115385  1.333333  0.930000  0.750000  0.725000  0.705357   \n",
              "4  0.088889  0.000000  0.488889  0.894286  0.770833  0.721429  0.760684   \n",
              "\n",
              "         S6        F7        S8  \n",
              "0  0.629630  0.058824  0.168254  \n",
              "1  0.311111  0.000000  0.166666  \n",
              "2  0.666667  0.525000  0.500000  \n",
              "3  0.231746  0.083334  0.100877  \n",
              "4  0.681159  0.416666  0.544444  \n",
              "\n",
              "[5 rows x 40 columns]"
            ],
            "text/html": [
              "\n",
              "  <div id=\"df-ac433671-5d0c-4b83-881d-97852ba2ac28\">\n",
              "    <div class=\"colab-df-container\">\n",
              "      <div>\n",
              "<style scoped>\n",
              "    .dataframe tbody tr th:only-of-type {\n",
              "        vertical-align: middle;\n",
              "    }\n",
              "\n",
              "    .dataframe tbody tr th {\n",
              "        vertical-align: top;\n",
              "    }\n",
              "\n",
              "    .dataframe thead th {\n",
              "        text-align: right;\n",
              "    }\n",
              "</style>\n",
              "<table border=\"1\" class=\"dataframe\">\n",
              "  <thead>\n",
              "    <tr style=\"text-align: right;\">\n",
              "      <th></th>\n",
              "      <th>F</th>\n",
              "      <th>F.1</th>\n",
              "      <th>F.2</th>\n",
              "      <th>F.3</th>\n",
              "      <th>S</th>\n",
              "      <th>S.1</th>\n",
              "      <th>S.2</th>\n",
              "      <th>S.3</th>\n",
              "      <th>S.4</th>\n",
              "      <th>S.5</th>\n",
              "      <th>...</th>\n",
              "      <th>S.16</th>\n",
              "      <th>S.17</th>\n",
              "      <th>F1</th>\n",
              "      <th>S2</th>\n",
              "      <th>F3</th>\n",
              "      <th>S4</th>\n",
              "      <th>F5</th>\n",
              "      <th>S6</th>\n",
              "      <th>F7</th>\n",
              "      <th>S8</th>\n",
              "    </tr>\n",
              "  </thead>\n",
              "  <tbody>\n",
              "    <tr>\n",
              "      <th>0</th>\n",
              "      <td>1.000000</td>\n",
              "      <td>1.000000</td>\n",
              "      <td>1.00</td>\n",
              "      <td>1.0</td>\n",
              "      <td>1.0</td>\n",
              "      <td>1.0</td>\n",
              "      <td>0.8</td>\n",
              "      <td>0.833333</td>\n",
              "      <td>0.8</td>\n",
              "      <td>1.0</td>\n",
              "      <td>...</td>\n",
              "      <td>0.114286</td>\n",
              "      <td>0.076923</td>\n",
              "      <td>1.333333</td>\n",
              "      <td>0.906667</td>\n",
              "      <td>1.000000</td>\n",
              "      <td>0.604167</td>\n",
              "      <td>0.819445</td>\n",
              "      <td>0.629630</td>\n",
              "      <td>0.058824</td>\n",
              "      <td>0.168254</td>\n",
              "    </tr>\n",
              "    <tr>\n",
              "      <th>1</th>\n",
              "      <td>1.000000</td>\n",
              "      <td>1.000000</td>\n",
              "      <td>1.00</td>\n",
              "      <td>0.0</td>\n",
              "      <td>1.0</td>\n",
              "      <td>0.0</td>\n",
              "      <td>1.0</td>\n",
              "      <td>1.000000</td>\n",
              "      <td>0.0</td>\n",
              "      <td>1.0</td>\n",
              "      <td>...</td>\n",
              "      <td>0.000000</td>\n",
              "      <td>0.115385</td>\n",
              "      <td>1.000000</td>\n",
              "      <td>0.666667</td>\n",
              "      <td>1.000000</td>\n",
              "      <td>0.000000</td>\n",
              "      <td>0.666667</td>\n",
              "      <td>0.311111</td>\n",
              "      <td>0.000000</td>\n",
              "      <td>0.166666</td>\n",
              "    </tr>\n",
              "    <tr>\n",
              "      <th>2</th>\n",
              "      <td>0.250000</td>\n",
              "      <td>0.250000</td>\n",
              "      <td>0.00</td>\n",
              "      <td>0.6</td>\n",
              "      <td>1.0</td>\n",
              "      <td>1.0</td>\n",
              "      <td>1.0</td>\n",
              "      <td>1.000000</td>\n",
              "      <td>1.0</td>\n",
              "      <td>0.0</td>\n",
              "      <td>...</td>\n",
              "      <td>0.000000</td>\n",
              "      <td>1.000000</td>\n",
              "      <td>0.283333</td>\n",
              "      <td>0.900000</td>\n",
              "      <td>1.000000</td>\n",
              "      <td>0.750000</td>\n",
              "      <td>0.625000</td>\n",
              "      <td>0.666667</td>\n",
              "      <td>0.525000</td>\n",
              "      <td>0.500000</td>\n",
              "    </tr>\n",
              "    <tr>\n",
              "      <th>3</th>\n",
              "      <td>1.000000</td>\n",
              "      <td>1.000000</td>\n",
              "      <td>1.00</td>\n",
              "      <td>1.0</td>\n",
              "      <td>1.0</td>\n",
              "      <td>0.8</td>\n",
              "      <td>1.0</td>\n",
              "      <td>1.000000</td>\n",
              "      <td>1.0</td>\n",
              "      <td>1.0</td>\n",
              "      <td>...</td>\n",
              "      <td>0.035088</td>\n",
              "      <td>0.115385</td>\n",
              "      <td>1.333333</td>\n",
              "      <td>0.930000</td>\n",
              "      <td>0.750000</td>\n",
              "      <td>0.725000</td>\n",
              "      <td>0.705357</td>\n",
              "      <td>0.231746</td>\n",
              "      <td>0.083334</td>\n",
              "      <td>0.100877</td>\n",
              "    </tr>\n",
              "    <tr>\n",
              "      <th>4</th>\n",
              "      <td>0.166667</td>\n",
              "      <td>0.222222</td>\n",
              "      <td>0.15</td>\n",
              "      <td>1.0</td>\n",
              "      <td>0.8</td>\n",
              "      <td>1.0</td>\n",
              "      <td>1.0</td>\n",
              "      <td>0.571429</td>\n",
              "      <td>1.0</td>\n",
              "      <td>1.0</td>\n",
              "      <td>...</td>\n",
              "      <td>0.088889</td>\n",
              "      <td>0.000000</td>\n",
              "      <td>0.488889</td>\n",
              "      <td>0.894286</td>\n",
              "      <td>0.770833</td>\n",
              "      <td>0.721429</td>\n",
              "      <td>0.760684</td>\n",
              "      <td>0.681159</td>\n",
              "      <td>0.416666</td>\n",
              "      <td>0.544444</td>\n",
              "    </tr>\n",
              "  </tbody>\n",
              "</table>\n",
              "<p>5 rows × 40 columns</p>\n",
              "</div>\n",
              "      <button class=\"colab-df-convert\" onclick=\"convertToInteractive('df-ac433671-5d0c-4b83-881d-97852ba2ac28')\"\n",
              "              title=\"Convert this dataframe to an interactive table.\"\n",
              "              style=\"display:none;\">\n",
              "        \n",
              "  <svg xmlns=\"http://www.w3.org/2000/svg\" height=\"24px\"viewBox=\"0 0 24 24\"\n",
              "       width=\"24px\">\n",
              "    <path d=\"M0 0h24v24H0V0z\" fill=\"none\"/>\n",
              "    <path d=\"M18.56 5.44l.94 2.06.94-2.06 2.06-.94-2.06-.94-.94-2.06-.94 2.06-2.06.94zm-11 1L8.5 8.5l.94-2.06 2.06-.94-2.06-.94L8.5 2.5l-.94 2.06-2.06.94zm10 10l.94 2.06.94-2.06 2.06-.94-2.06-.94-.94-2.06-.94 2.06-2.06.94z\"/><path d=\"M17.41 7.96l-1.37-1.37c-.4-.4-.92-.59-1.43-.59-.52 0-1.04.2-1.43.59L10.3 9.45l-7.72 7.72c-.78.78-.78 2.05 0 2.83L4 21.41c.39.39.9.59 1.41.59.51 0 1.02-.2 1.41-.59l7.78-7.78 2.81-2.81c.8-.78.8-2.07 0-2.86zM5.41 20L4 18.59l7.72-7.72 1.47 1.35L5.41 20z\"/>\n",
              "  </svg>\n",
              "      </button>\n",
              "      \n",
              "  <style>\n",
              "    .colab-df-container {\n",
              "      display:flex;\n",
              "      flex-wrap:wrap;\n",
              "      gap: 12px;\n",
              "    }\n",
              "\n",
              "    .colab-df-convert {\n",
              "      background-color: #E8F0FE;\n",
              "      border: none;\n",
              "      border-radius: 50%;\n",
              "      cursor: pointer;\n",
              "      display: none;\n",
              "      fill: #1967D2;\n",
              "      height: 32px;\n",
              "      padding: 0 0 0 0;\n",
              "      width: 32px;\n",
              "    }\n",
              "\n",
              "    .colab-df-convert:hover {\n",
              "      background-color: #E2EBFA;\n",
              "      box-shadow: 0px 1px 2px rgba(60, 64, 67, 0.3), 0px 1px 3px 1px rgba(60, 64, 67, 0.15);\n",
              "      fill: #174EA6;\n",
              "    }\n",
              "\n",
              "    [theme=dark] .colab-df-convert {\n",
              "      background-color: #3B4455;\n",
              "      fill: #D2E3FC;\n",
              "    }\n",
              "\n",
              "    [theme=dark] .colab-df-convert:hover {\n",
              "      background-color: #434B5C;\n",
              "      box-shadow: 0px 1px 3px 1px rgba(0, 0, 0, 0.15);\n",
              "      filter: drop-shadow(0px 1px 2px rgba(0, 0, 0, 0.3));\n",
              "      fill: #FFFFFF;\n",
              "    }\n",
              "  </style>\n",
              "\n",
              "      <script>\n",
              "        const buttonEl =\n",
              "          document.querySelector('#df-ac433671-5d0c-4b83-881d-97852ba2ac28 button.colab-df-convert');\n",
              "        buttonEl.style.display =\n",
              "          google.colab.kernel.accessAllowed ? 'block' : 'none';\n",
              "\n",
              "        async function convertToInteractive(key) {\n",
              "          const element = document.querySelector('#df-ac433671-5d0c-4b83-881d-97852ba2ac28');\n",
              "          const dataTable =\n",
              "            await google.colab.kernel.invokeFunction('convertToInteractive',\n",
              "                                                     [key], {});\n",
              "          if (!dataTable) return;\n",
              "\n",
              "          const docLinkHtml = 'Like what you see? Visit the ' +\n",
              "            '<a target=\"_blank\" href=https://colab.research.google.com/notebooks/data_table.ipynb>data table notebook</a>'\n",
              "            + ' to learn more about interactive tables.';\n",
              "          element.innerHTML = '';\n",
              "          dataTable['output_type'] = 'display_data';\n",
              "          await google.colab.output.renderOutput(dataTable, element);\n",
              "          const docLink = document.createElement('div');\n",
              "          docLink.innerHTML = docLinkHtml;\n",
              "          element.appendChild(docLink);\n",
              "        }\n",
              "      </script>\n",
              "    </div>\n",
              "  </div>\n",
              "  "
            ]
          },
          "metadata": {},
          "execution_count": 4
        }
      ]
    },
    {
      "cell_type": "code",
      "source": [
        "#iterate over the row values in the last total columns, the first letter is the error type. If F>S: to the Intervention add F column\n",
        "\n",
        "df['TotalF'] = 0\n",
        "df['TotalS'] = 0\n",
        "count_f=0\n",
        "count_s=0\n",
        "for name, values in df[32:].iteritems():\n",
        "    if str(name)[0]=='F':\n",
        "      df['TotalF'] += df[name]\n",
        "      count_f+=1\n",
        "    elif str(name)[0]=='S':\n",
        "      df['TotalS'] += df[name]\n",
        "      count_s+=1\n",
        "df['TotalF'] = df['TotalF']/count_f\n",
        "df['TotalS'] = df['TotalS']/count_s"
      ],
      "metadata": {
        "id": "1qswy4LExS5c"
      },
      "execution_count": null,
      "outputs": []
    },
    {
      "cell_type": "code",
      "source": [
        "#we look where the execution accuracy is less\n",
        "df['compare']=df['TotalF']<df['TotalS']\n",
        "\n",
        "#add as target of intervention\n",
        "df['Intervention']=2\n",
        "ind=0\n",
        "for i in df['compare']:\n",
        "  if i:\n",
        "    df['Intervention'][ind]=1\n",
        "  ind+=1"
      ],
      "metadata": {
        "colab": {
          "base_uri": "https://localhost:8080/"
        },
        "id": "uY3yqL8_xZZn",
        "outputId": "b1bc8ab5-750b-4145-90d7-f594dc242197"
      },
      "execution_count": null,
      "outputs": [
        {
          "output_type": "stream",
          "name": "stderr",
          "text": [
            "<ipython-input-6-5e575d308752>:9: SettingWithCopyWarning: \n",
            "A value is trying to be set on a copy of a slice from a DataFrame\n",
            "\n",
            "See the caveats in the documentation: https://pandas.pydata.org/pandas-docs/stable/user_guide/indexing.html#returning-a-view-versus-a-copy\n",
            "  df['Intervention'][ind]=1\n"
          ]
        }
      ]
    },
    {
      "cell_type": "code",
      "source": [
        "df.head()"
      ],
      "metadata": {
        "colab": {
          "base_uri": "https://localhost:8080/",
          "height": 235
        },
        "id": "RcWRtNmYxd6c",
        "outputId": "1b26b9fb-0999-433e-f4c4-93fdef1f37b8"
      },
      "execution_count": null,
      "outputs": [
        {
          "output_type": "execute_result",
          "data": {
            "text/plain": [
              "          F       F.1   F.2  F.3    S  S.1  S.2       S.3  S.4  S.5  ...  \\\n",
              "0  1.000000  1.000000  1.00  1.0  1.0  1.0  0.8  0.833333  0.8  1.0  ...   \n",
              "1  1.000000  1.000000  1.00  0.0  1.0  0.0  1.0  1.000000  0.0  1.0  ...   \n",
              "2  0.250000  0.250000  0.00  0.6  1.0  1.0  1.0  1.000000  1.0  0.0  ...   \n",
              "3  1.000000  1.000000  1.00  1.0  1.0  0.8  1.0  1.000000  1.0  1.0  ...   \n",
              "4  0.166667  0.222222  0.15  1.0  0.8  1.0  1.0  0.571429  1.0  1.0  ...   \n",
              "\n",
              "         F3        S4        F5        S6        F7        S8    TotalF  \\\n",
              "0  1.000000  0.604167  0.819445  0.629630  0.058824  0.168254  0.811501   \n",
              "1  1.000000  0.000000  0.666667  0.311111  0.000000  0.166666  0.685185   \n",
              "2  1.000000  0.750000  0.625000  0.666667  0.525000  0.500000  0.615741   \n",
              "3  0.750000  0.725000  0.705357  0.231746  0.083334  0.100877  0.714451   \n",
              "4  0.770833  0.721429  0.760684  0.681159  0.416666  0.544444  0.607520   \n",
              "\n",
              "     TotalS  compare  Intervention  \n",
              "0  0.683582    False             2  \n",
              "1  0.357265    False             2  \n",
              "2  0.764394     True             1  \n",
              "3  0.637879    False             2  \n",
              "4  0.737765     True             1  \n",
              "\n",
              "[5 rows x 44 columns]"
            ],
            "text/html": [
              "\n",
              "  <div id=\"df-6b390e74-ac6c-4e32-ad61-d136359c61cc\">\n",
              "    <div class=\"colab-df-container\">\n",
              "      <div>\n",
              "<style scoped>\n",
              "    .dataframe tbody tr th:only-of-type {\n",
              "        vertical-align: middle;\n",
              "    }\n",
              "\n",
              "    .dataframe tbody tr th {\n",
              "        vertical-align: top;\n",
              "    }\n",
              "\n",
              "    .dataframe thead th {\n",
              "        text-align: right;\n",
              "    }\n",
              "</style>\n",
              "<table border=\"1\" class=\"dataframe\">\n",
              "  <thead>\n",
              "    <tr style=\"text-align: right;\">\n",
              "      <th></th>\n",
              "      <th>F</th>\n",
              "      <th>F.1</th>\n",
              "      <th>F.2</th>\n",
              "      <th>F.3</th>\n",
              "      <th>S</th>\n",
              "      <th>S.1</th>\n",
              "      <th>S.2</th>\n",
              "      <th>S.3</th>\n",
              "      <th>S.4</th>\n",
              "      <th>S.5</th>\n",
              "      <th>...</th>\n",
              "      <th>F3</th>\n",
              "      <th>S4</th>\n",
              "      <th>F5</th>\n",
              "      <th>S6</th>\n",
              "      <th>F7</th>\n",
              "      <th>S8</th>\n",
              "      <th>TotalF</th>\n",
              "      <th>TotalS</th>\n",
              "      <th>compare</th>\n",
              "      <th>Intervention</th>\n",
              "    </tr>\n",
              "  </thead>\n",
              "  <tbody>\n",
              "    <tr>\n",
              "      <th>0</th>\n",
              "      <td>1.000000</td>\n",
              "      <td>1.000000</td>\n",
              "      <td>1.00</td>\n",
              "      <td>1.0</td>\n",
              "      <td>1.0</td>\n",
              "      <td>1.0</td>\n",
              "      <td>0.8</td>\n",
              "      <td>0.833333</td>\n",
              "      <td>0.8</td>\n",
              "      <td>1.0</td>\n",
              "      <td>...</td>\n",
              "      <td>1.000000</td>\n",
              "      <td>0.604167</td>\n",
              "      <td>0.819445</td>\n",
              "      <td>0.629630</td>\n",
              "      <td>0.058824</td>\n",
              "      <td>0.168254</td>\n",
              "      <td>0.811501</td>\n",
              "      <td>0.683582</td>\n",
              "      <td>False</td>\n",
              "      <td>2</td>\n",
              "    </tr>\n",
              "    <tr>\n",
              "      <th>1</th>\n",
              "      <td>1.000000</td>\n",
              "      <td>1.000000</td>\n",
              "      <td>1.00</td>\n",
              "      <td>0.0</td>\n",
              "      <td>1.0</td>\n",
              "      <td>0.0</td>\n",
              "      <td>1.0</td>\n",
              "      <td>1.000000</td>\n",
              "      <td>0.0</td>\n",
              "      <td>1.0</td>\n",
              "      <td>...</td>\n",
              "      <td>1.000000</td>\n",
              "      <td>0.000000</td>\n",
              "      <td>0.666667</td>\n",
              "      <td>0.311111</td>\n",
              "      <td>0.000000</td>\n",
              "      <td>0.166666</td>\n",
              "      <td>0.685185</td>\n",
              "      <td>0.357265</td>\n",
              "      <td>False</td>\n",
              "      <td>2</td>\n",
              "    </tr>\n",
              "    <tr>\n",
              "      <th>2</th>\n",
              "      <td>0.250000</td>\n",
              "      <td>0.250000</td>\n",
              "      <td>0.00</td>\n",
              "      <td>0.6</td>\n",
              "      <td>1.0</td>\n",
              "      <td>1.0</td>\n",
              "      <td>1.0</td>\n",
              "      <td>1.000000</td>\n",
              "      <td>1.0</td>\n",
              "      <td>0.0</td>\n",
              "      <td>...</td>\n",
              "      <td>1.000000</td>\n",
              "      <td>0.750000</td>\n",
              "      <td>0.625000</td>\n",
              "      <td>0.666667</td>\n",
              "      <td>0.525000</td>\n",
              "      <td>0.500000</td>\n",
              "      <td>0.615741</td>\n",
              "      <td>0.764394</td>\n",
              "      <td>True</td>\n",
              "      <td>1</td>\n",
              "    </tr>\n",
              "    <tr>\n",
              "      <th>3</th>\n",
              "      <td>1.000000</td>\n",
              "      <td>1.000000</td>\n",
              "      <td>1.00</td>\n",
              "      <td>1.0</td>\n",
              "      <td>1.0</td>\n",
              "      <td>0.8</td>\n",
              "      <td>1.0</td>\n",
              "      <td>1.000000</td>\n",
              "      <td>1.0</td>\n",
              "      <td>1.0</td>\n",
              "      <td>...</td>\n",
              "      <td>0.750000</td>\n",
              "      <td>0.725000</td>\n",
              "      <td>0.705357</td>\n",
              "      <td>0.231746</td>\n",
              "      <td>0.083334</td>\n",
              "      <td>0.100877</td>\n",
              "      <td>0.714451</td>\n",
              "      <td>0.637879</td>\n",
              "      <td>False</td>\n",
              "      <td>2</td>\n",
              "    </tr>\n",
              "    <tr>\n",
              "      <th>4</th>\n",
              "      <td>0.166667</td>\n",
              "      <td>0.222222</td>\n",
              "      <td>0.15</td>\n",
              "      <td>1.0</td>\n",
              "      <td>0.8</td>\n",
              "      <td>1.0</td>\n",
              "      <td>1.0</td>\n",
              "      <td>0.571429</td>\n",
              "      <td>1.0</td>\n",
              "      <td>1.0</td>\n",
              "      <td>...</td>\n",
              "      <td>0.770833</td>\n",
              "      <td>0.721429</td>\n",
              "      <td>0.760684</td>\n",
              "      <td>0.681159</td>\n",
              "      <td>0.416666</td>\n",
              "      <td>0.544444</td>\n",
              "      <td>0.607520</td>\n",
              "      <td>0.737765</td>\n",
              "      <td>True</td>\n",
              "      <td>1</td>\n",
              "    </tr>\n",
              "  </tbody>\n",
              "</table>\n",
              "<p>5 rows × 44 columns</p>\n",
              "</div>\n",
              "      <button class=\"colab-df-convert\" onclick=\"convertToInteractive('df-6b390e74-ac6c-4e32-ad61-d136359c61cc')\"\n",
              "              title=\"Convert this dataframe to an interactive table.\"\n",
              "              style=\"display:none;\">\n",
              "        \n",
              "  <svg xmlns=\"http://www.w3.org/2000/svg\" height=\"24px\"viewBox=\"0 0 24 24\"\n",
              "       width=\"24px\">\n",
              "    <path d=\"M0 0h24v24H0V0z\" fill=\"none\"/>\n",
              "    <path d=\"M18.56 5.44l.94 2.06.94-2.06 2.06-.94-2.06-.94-.94-2.06-.94 2.06-2.06.94zm-11 1L8.5 8.5l.94-2.06 2.06-.94-2.06-.94L8.5 2.5l-.94 2.06-2.06.94zm10 10l.94 2.06.94-2.06 2.06-.94-2.06-.94-.94-2.06-.94 2.06-2.06.94z\"/><path d=\"M17.41 7.96l-1.37-1.37c-.4-.4-.92-.59-1.43-.59-.52 0-1.04.2-1.43.59L10.3 9.45l-7.72 7.72c-.78.78-.78 2.05 0 2.83L4 21.41c.39.39.9.59 1.41.59.51 0 1.02-.2 1.41-.59l7.78-7.78 2.81-2.81c.8-.78.8-2.07 0-2.86zM5.41 20L4 18.59l7.72-7.72 1.47 1.35L5.41 20z\"/>\n",
              "  </svg>\n",
              "      </button>\n",
              "      \n",
              "  <style>\n",
              "    .colab-df-container {\n",
              "      display:flex;\n",
              "      flex-wrap:wrap;\n",
              "      gap: 12px;\n",
              "    }\n",
              "\n",
              "    .colab-df-convert {\n",
              "      background-color: #E8F0FE;\n",
              "      border: none;\n",
              "      border-radius: 50%;\n",
              "      cursor: pointer;\n",
              "      display: none;\n",
              "      fill: #1967D2;\n",
              "      height: 32px;\n",
              "      padding: 0 0 0 0;\n",
              "      width: 32px;\n",
              "    }\n",
              "\n",
              "    .colab-df-convert:hover {\n",
              "      background-color: #E2EBFA;\n",
              "      box-shadow: 0px 1px 2px rgba(60, 64, 67, 0.3), 0px 1px 3px 1px rgba(60, 64, 67, 0.15);\n",
              "      fill: #174EA6;\n",
              "    }\n",
              "\n",
              "    [theme=dark] .colab-df-convert {\n",
              "      background-color: #3B4455;\n",
              "      fill: #D2E3FC;\n",
              "    }\n",
              "\n",
              "    [theme=dark] .colab-df-convert:hover {\n",
              "      background-color: #434B5C;\n",
              "      box-shadow: 0px 1px 3px 1px rgba(0, 0, 0, 0.15);\n",
              "      filter: drop-shadow(0px 1px 2px rgba(0, 0, 0, 0.3));\n",
              "      fill: #FFFFFF;\n",
              "    }\n",
              "  </style>\n",
              "\n",
              "      <script>\n",
              "        const buttonEl =\n",
              "          document.querySelector('#df-6b390e74-ac6c-4e32-ad61-d136359c61cc button.colab-df-convert');\n",
              "        buttonEl.style.display =\n",
              "          google.colab.kernel.accessAllowed ? 'block' : 'none';\n",
              "\n",
              "        async function convertToInteractive(key) {\n",
              "          const element = document.querySelector('#df-6b390e74-ac6c-4e32-ad61-d136359c61cc');\n",
              "          const dataTable =\n",
              "            await google.colab.kernel.invokeFunction('convertToInteractive',\n",
              "                                                     [key], {});\n",
              "          if (!dataTable) return;\n",
              "\n",
              "          const docLinkHtml = 'Like what you see? Visit the ' +\n",
              "            '<a target=\"_blank\" href=https://colab.research.google.com/notebooks/data_table.ipynb>data table notebook</a>'\n",
              "            + ' to learn more about interactive tables.';\n",
              "          element.innerHTML = '';\n",
              "          dataTable['output_type'] = 'display_data';\n",
              "          await google.colab.output.renderOutput(dataTable, element);\n",
              "          const docLink = document.createElement('div');\n",
              "          docLink.innerHTML = docLinkHtml;\n",
              "          element.appendChild(docLink);\n",
              "        }\n",
              "      </script>\n",
              "    </div>\n",
              "  </div>\n",
              "  "
            ]
          },
          "metadata": {},
          "execution_count": 7
        }
      ]
    },
    {
      "cell_type": "code",
      "source": [
        "#we choose which of the input data we will select exercises. The index must be changed manually to access\n",
        "# to the i row of the \"Intervention\" column\n",
        "\n",
        "difficulty=df['Intervention'].iloc[0]"
      ],
      "metadata": {
        "id": "5y8eyEsV4PZz"
      },
      "execution_count": null,
      "outputs": []
    },
    {
      "cell_type": "markdown",
      "source": [
        "# **Selection of exercises**"
      ],
      "metadata": {
        "id": "zlzW9OBj5qGQ"
      }
    },
    {
      "cell_type": "code",
      "source": [
        "import pandas as pd\n",
        "import numpy as np\n",
        "from sklearn.feature_extraction.text import CountVectorizer\n",
        "from sklearn.metrics.pairwise import cosine_similarity"
      ],
      "metadata": {
        "id": "vxYiUJPN5sf0"
      },
      "execution_count": null,
      "outputs": []
    },
    {
      "cell_type": "code",
      "source": [
        "if difficulty==1:\n",
        "  df = pd.read_csv(\"/content/Substitutions-and-mixing-sounds-when-reading.csv\")\n",
        "else:\n",
        "  df = pd.read_csv(\"/content/Distortions-of-the-sound-syllabic-structure-of-the-word.csv\")"
      ],
      "metadata": {
        "id": "pMvp3FDO5tB4"
      },
      "execution_count": null,
      "outputs": []
    },
    {
      "cell_type": "code",
      "source": [
        "df['Exercise']=df['Exercise'].str.lower()\n",
        "df['Intervention_Target']=df['Intervention_Target'].str.lower()\n",
        "df['Reading_level']=df['Reading_level'].str.lower()"
      ],
      "metadata": {
        "id": "tes_GckA5x1W"
      },
      "execution_count": null,
      "outputs": []
    },
    {
      "cell_type": "code",
      "source": [
        "df['Exercise']=df['Exercise'].str.replace('[^\\w\\s]','')\n",
        "df['Intervention_Target']=df['Intervention_Target'].str.replace('[^\\w\\s]','')\n",
        "df['Reading_level']=df['Reading_level'].str.replace('[^\\w\\s]','')"
      ],
      "metadata": {
        "colab": {
          "base_uri": "https://localhost:8080/"
        },
        "id": "ESEIQMmu50HF",
        "outputId": "2d2bce2d-b4d3-4d43-e9fb-98315e07d40e"
      },
      "execution_count": null,
      "outputs": [
        {
          "output_type": "stream",
          "name": "stderr",
          "text": [
            "<ipython-input-15-6c0f458c9ee8>:1: FutureWarning: The default value of regex will change from True to False in a future version.\n",
            "  df['Exercise']=df['Exercise'].str.replace('[^\\w\\s]','')\n",
            "<ipython-input-15-6c0f458c9ee8>:2: FutureWarning: The default value of regex will change from True to False in a future version.\n",
            "  df['Intervention_Target']=df['Intervention_Target'].str.replace('[^\\w\\s]','')\n",
            "<ipython-input-15-6c0f458c9ee8>:3: FutureWarning: The default value of regex will change from True to False in a future version.\n",
            "  df['Reading_level']=df['Reading_level'].str.replace('[^\\w\\s]','')\n"
          ]
        }
      ]
    },
    {
      "cell_type": "code",
      "source": [
        "df['Exercise']=df['Exercise'].str.strip()\n",
        "df['Intervention_Target']=df['Intervention_Target'].str.strip()\n",
        "df['Reading_level']=df['Reading_level'].str.strip()"
      ],
      "metadata": {
        "id": "CpDrbYmi514f"
      },
      "execution_count": null,
      "outputs": []
    },
    {
      "cell_type": "code",
      "source": [
        "import nltk\n",
        "nltk.download('stopwords')\n",
        "from nltk.corpus import stopwords"
      ],
      "metadata": {
        "colab": {
          "base_uri": "https://localhost:8080/"
        },
        "id": "Yp6yYv2_53it",
        "outputId": "d7d4d867-0711-494a-d31a-0ad5c0188a78"
      },
      "execution_count": null,
      "outputs": [
        {
          "output_type": "stream",
          "name": "stderr",
          "text": [
            "[nltk_data] Downloading package stopwords to /root/nltk_data...\n",
            "[nltk_data]   Unzipping corpora/stopwords.zip.\n"
          ]
        }
      ]
    },
    {
      "cell_type": "code",
      "source": [
        "stop_words = stopwords.words('english')\n",
        "df['Exercise'] = df['Exercise'].apply(lambda x: ' '.join([word for word in x.split() if word not in (stop_words)]))\n",
        "df['Intervention_Target'] = df['Intervention_Target'].apply(lambda x: ' '.join([word for word in x.split() if word not in (stop_words)]))\n",
        "df['Reading_level'] = df['Reading_level'].apply(lambda x: ' '.join([word for word in x.split() if word not in (stop_words)]))"
      ],
      "metadata": {
        "id": "eg7GaGxY55NL"
      },
      "execution_count": null,
      "outputs": []
    },
    {
      "cell_type": "code",
      "source": [
        "df.head()"
      ],
      "metadata": {
        "colab": {
          "base_uri": "https://localhost:8080/",
          "height": 206
        },
        "id": "ljOFcFCe57Db",
        "outputId": "e12fc4e6-dbcc-4a94-947c-a5fc0820046e"
      },
      "execution_count": null,
      "outputs": [
        {
          "output_type": "execute_result",
          "data": {
            "text/plain": [
              "   Index                             Exercise  \\\n",
              "0      1            name vowel sound syllable   \n",
              "1      2              record vowels syllables   \n",
              "2      3      isolation sound background word   \n",
              "3      4  separation sound beginning end word   \n",
              "4      5     determining sequence sounds word   \n",
              "\n",
              "                      Reading_level                       Intervention_Target  \n",
              "0        syllablebysyllable reading  distortions soundsyllabic structure word  \n",
              "1        syllablebysyllable reading  distortions soundsyllabic structure word  \n",
              "2  mastery soundletter designations  distortions soundsyllabic structure word  \n",
              "3  mastery soundletter designations  distortions soundsyllabic structure word  \n",
              "4  mastery soundletter designations  distortions soundsyllabic structure word  "
            ],
            "text/html": [
              "\n",
              "  <div id=\"df-ef6cae23-2b09-4d63-8015-256981de25a6\">\n",
              "    <div class=\"colab-df-container\">\n",
              "      <div>\n",
              "<style scoped>\n",
              "    .dataframe tbody tr th:only-of-type {\n",
              "        vertical-align: middle;\n",
              "    }\n",
              "\n",
              "    .dataframe tbody tr th {\n",
              "        vertical-align: top;\n",
              "    }\n",
              "\n",
              "    .dataframe thead th {\n",
              "        text-align: right;\n",
              "    }\n",
              "</style>\n",
              "<table border=\"1\" class=\"dataframe\">\n",
              "  <thead>\n",
              "    <tr style=\"text-align: right;\">\n",
              "      <th></th>\n",
              "      <th>Index</th>\n",
              "      <th>Exercise</th>\n",
              "      <th>Reading_level</th>\n",
              "      <th>Intervention_Target</th>\n",
              "    </tr>\n",
              "  </thead>\n",
              "  <tbody>\n",
              "    <tr>\n",
              "      <th>0</th>\n",
              "      <td>1</td>\n",
              "      <td>name vowel sound syllable</td>\n",
              "      <td>syllablebysyllable reading</td>\n",
              "      <td>distortions soundsyllabic structure word</td>\n",
              "    </tr>\n",
              "    <tr>\n",
              "      <th>1</th>\n",
              "      <td>2</td>\n",
              "      <td>record vowels syllables</td>\n",
              "      <td>syllablebysyllable reading</td>\n",
              "      <td>distortions soundsyllabic structure word</td>\n",
              "    </tr>\n",
              "    <tr>\n",
              "      <th>2</th>\n",
              "      <td>3</td>\n",
              "      <td>isolation sound background word</td>\n",
              "      <td>mastery soundletter designations</td>\n",
              "      <td>distortions soundsyllabic structure word</td>\n",
              "    </tr>\n",
              "    <tr>\n",
              "      <th>3</th>\n",
              "      <td>4</td>\n",
              "      <td>separation sound beginning end word</td>\n",
              "      <td>mastery soundletter designations</td>\n",
              "      <td>distortions soundsyllabic structure word</td>\n",
              "    </tr>\n",
              "    <tr>\n",
              "      <th>4</th>\n",
              "      <td>5</td>\n",
              "      <td>determining sequence sounds word</td>\n",
              "      <td>mastery soundletter designations</td>\n",
              "      <td>distortions soundsyllabic structure word</td>\n",
              "    </tr>\n",
              "  </tbody>\n",
              "</table>\n",
              "</div>\n",
              "      <button class=\"colab-df-convert\" onclick=\"convertToInteractive('df-ef6cae23-2b09-4d63-8015-256981de25a6')\"\n",
              "              title=\"Convert this dataframe to an interactive table.\"\n",
              "              style=\"display:none;\">\n",
              "        \n",
              "  <svg xmlns=\"http://www.w3.org/2000/svg\" height=\"24px\"viewBox=\"0 0 24 24\"\n",
              "       width=\"24px\">\n",
              "    <path d=\"M0 0h24v24H0V0z\" fill=\"none\"/>\n",
              "    <path d=\"M18.56 5.44l.94 2.06.94-2.06 2.06-.94-2.06-.94-.94-2.06-.94 2.06-2.06.94zm-11 1L8.5 8.5l.94-2.06 2.06-.94-2.06-.94L8.5 2.5l-.94 2.06-2.06.94zm10 10l.94 2.06.94-2.06 2.06-.94-2.06-.94-.94-2.06-.94 2.06-2.06.94z\"/><path d=\"M17.41 7.96l-1.37-1.37c-.4-.4-.92-.59-1.43-.59-.52 0-1.04.2-1.43.59L10.3 9.45l-7.72 7.72c-.78.78-.78 2.05 0 2.83L4 21.41c.39.39.9.59 1.41.59.51 0 1.02-.2 1.41-.59l7.78-7.78 2.81-2.81c.8-.78.8-2.07 0-2.86zM5.41 20L4 18.59l7.72-7.72 1.47 1.35L5.41 20z\"/>\n",
              "  </svg>\n",
              "      </button>\n",
              "      \n",
              "  <style>\n",
              "    .colab-df-container {\n",
              "      display:flex;\n",
              "      flex-wrap:wrap;\n",
              "      gap: 12px;\n",
              "    }\n",
              "\n",
              "    .colab-df-convert {\n",
              "      background-color: #E8F0FE;\n",
              "      border: none;\n",
              "      border-radius: 50%;\n",
              "      cursor: pointer;\n",
              "      display: none;\n",
              "      fill: #1967D2;\n",
              "      height: 32px;\n",
              "      padding: 0 0 0 0;\n",
              "      width: 32px;\n",
              "    }\n",
              "\n",
              "    .colab-df-convert:hover {\n",
              "      background-color: #E2EBFA;\n",
              "      box-shadow: 0px 1px 2px rgba(60, 64, 67, 0.3), 0px 1px 3px 1px rgba(60, 64, 67, 0.15);\n",
              "      fill: #174EA6;\n",
              "    }\n",
              "\n",
              "    [theme=dark] .colab-df-convert {\n",
              "      background-color: #3B4455;\n",
              "      fill: #D2E3FC;\n",
              "    }\n",
              "\n",
              "    [theme=dark] .colab-df-convert:hover {\n",
              "      background-color: #434B5C;\n",
              "      box-shadow: 0px 1px 3px 1px rgba(0, 0, 0, 0.15);\n",
              "      filter: drop-shadow(0px 1px 2px rgba(0, 0, 0, 0.3));\n",
              "      fill: #FFFFFF;\n",
              "    }\n",
              "  </style>\n",
              "\n",
              "      <script>\n",
              "        const buttonEl =\n",
              "          document.querySelector('#df-ef6cae23-2b09-4d63-8015-256981de25a6 button.colab-df-convert');\n",
              "        buttonEl.style.display =\n",
              "          google.colab.kernel.accessAllowed ? 'block' : 'none';\n",
              "\n",
              "        async function convertToInteractive(key) {\n",
              "          const element = document.querySelector('#df-ef6cae23-2b09-4d63-8015-256981de25a6');\n",
              "          const dataTable =\n",
              "            await google.colab.kernel.invokeFunction('convertToInteractive',\n",
              "                                                     [key], {});\n",
              "          if (!dataTable) return;\n",
              "\n",
              "          const docLinkHtml = 'Like what you see? Visit the ' +\n",
              "            '<a target=\"_blank\" href=https://colab.research.google.com/notebooks/data_table.ipynb>data table notebook</a>'\n",
              "            + ' to learn more about interactive tables.';\n",
              "          element.innerHTML = '';\n",
              "          dataTable['output_type'] = 'display_data';\n",
              "          await google.colab.output.renderOutput(dataTable, element);\n",
              "          const docLink = document.createElement('div');\n",
              "          docLink.innerHTML = docLinkHtml;\n",
              "          element.appendChild(docLink);\n",
              "        }\n",
              "      </script>\n",
              "    </div>\n",
              "  </div>\n",
              "  "
            ]
          },
          "metadata": {},
          "execution_count": 19
        }
      ]
    },
    {
      "cell_type": "code",
      "source": [
        "features = ['Exercise', 'Intervention_Target', 'Reading_level']"
      ],
      "metadata": {
        "id": "tPIJcO1859DB"
      },
      "execution_count": null,
      "outputs": []
    },
    {
      "cell_type": "code",
      "source": [
        "def combine_features(row):\n",
        "    return row['Exercise']+' '+row['Intervention_Target']+' '+row['Reading_level']"
      ],
      "metadata": {
        "id": "PcC5Qw0l5-3W"
      },
      "execution_count": null,
      "outputs": []
    },
    {
      "cell_type": "code",
      "source": [
        "for feature in features:\n",
        "    df[feature] = df[feature].fillna('')\n",
        "\n",
        "df['combined_features'] = df.apply(combine_features, axis = 1)\n",
        "print(df.loc[0, 'combined_features'])"
      ],
      "metadata": {
        "colab": {
          "base_uri": "https://localhost:8080/"
        },
        "id": "u0FZf4Aw6Aer",
        "outputId": "80332831-42db-4b1d-bba5-02d2df5762b7"
      },
      "execution_count": null,
      "outputs": [
        {
          "output_type": "stream",
          "name": "stdout",
          "text": [
            "name vowel sound syllable distortions soundsyllabic structure word syllablebysyllable reading\n"
          ]
        }
      ]
    },
    {
      "cell_type": "code",
      "source": [
        "cv = CountVectorizer()\n",
        "count_matrix = cv.fit_transform(df['combined_features'])"
      ],
      "metadata": {
        "id": "srbUkn4o6GJn"
      },
      "execution_count": null,
      "outputs": []
    },
    {
      "cell_type": "code",
      "source": [
        "cosine_sim = cosine_similarity(count_matrix)\n",
        "print(cosine_sim)"
      ],
      "metadata": {
        "id": "c6kHR_E76Hop"
      },
      "execution_count": null,
      "outputs": []
    },
    {
      "cell_type": "code",
      "source": [
        "#take the first exercise at random. It is assumed that here the specialist / the child himself, if he\n",
        "#is able to realize the formation of his skill, notes whether such an exercise suits him\n",
        "# if not, another one is selected. can be done through a conditional operator, but this is probably within the framework\n",
        "#current research is redundant\n",
        "\n",
        "first_ex = np.random.choice(df['Exercise'])\n",
        "first_ex"
      ],
      "metadata": {
        "colab": {
          "base_uri": "https://localhost:8080/",
          "height": 36
        },
        "id": "0m_IKV2W6KOU",
        "outputId": "d73dfb84-b814-4500-be08-f50180c1651c"
      },
      "execution_count": null,
      "outputs": [
        {
          "output_type": "execute_result",
          "data": {
            "text/plain": [
              "'make syllables letters split alphabet'"
            ],
            "application/vnd.google.colaboratory.intrinsic+json": {
              "type": "string"
            }
          },
          "metadata": {},
          "execution_count": 25
        }
      ]
    },
    {
      "cell_type": "code",
      "source": [
        "ex_user_likes = first_ex \n",
        "def get_index_from_title(title):\n",
        "    return df[df.Exercise == title][\"Index\"].values[0]\n",
        "ex_index = get_index_from_title(ex_user_likes)"
      ],
      "metadata": {
        "id": "6VoYEXaQ6MZM"
      },
      "execution_count": null,
      "outputs": []
    },
    {
      "cell_type": "code",
      "source": [
        "similar_ex = list(enumerate(cosine_sim[ex_index]))\n",
        "sorted_similar_ex = sorted(similar_ex, key=lambda x:x[1], reverse=True)\n",
        "print(sorted_similar_ex)"
      ],
      "metadata": {
        "colab": {
          "base_uri": "https://localhost:8080/"
        },
        "id": "c0Fpl5D-6Q7r",
        "outputId": "435bdcc3-f053-4c4b-b04e-43a8c34579de"
      },
      "execution_count": null,
      "outputs": [
        {
          "output_type": "stream",
          "name": "stdout",
          "text": [
            "[(19, 1.0000000000000002), (14, 0.7205766921228922), (16, 0.7205766921228922), (18, 0.7205766921228922), (15, 0.6708203932499369), (17, 0.6301260378126043), (1, 0.4811252243246882), (0, 0.4564354645876385), (2, 0.4003203845127179), (4, 0.4003203845127179), (3, 0.38575837490522985), (6, 0.38575837490522985), (5, 0.3333333333333334), (13, 0.3333333333333334), (12, 0.3202563076101743), (7, 0.3086066999241839), (8, 0.3086066999241839), (10, 0.3086066999241839), (11, 0.29814239699997197), (9, 0.2886751345948129)]\n"
          ]
        }
      ]
    },
    {
      "cell_type": "code",
      "source": [
        "#displays 5 similar exercises\n",
        "def get_title_from_index(index):\n",
        "    return df[df.index == index][\"Exercise\"].values[0]\n",
        "i=0\n",
        "for ex in sorted_similar_ex:\n",
        "    print(get_title_from_index(ex[0]))\n",
        "    if i==0:\n",
        "      docu_1 = get_title_from_index(ex[0])\n",
        "    i=i+1\n",
        "    if i>4:\n",
        "        break"
      ],
      "metadata": {
        "colab": {
          "base_uri": "https://localhost:8080/"
        },
        "id": "DMctTpSK6SeK",
        "outputId": "31751365-7d1d-47b0-d552-b0ac95b99c03"
      },
      "execution_count": null,
      "outputs": [
        {
          "output_type": "stream",
          "name": "stdout",
          "text": [
            "write syllables begin vowel\n",
            "think words two three syllables\n",
            "determine number syllables title picture\n",
            "make syllables letters split alphabet\n",
            "come word certain syllable beginning\n"
          ]
        }
      ]
    },
    {
      "cell_type": "code",
      "source": [
        "def jaccard_similarity(doc1, doc2):\n",
        " words_doc1 = set(doc1.lower().split())\n",
        " words_doc2 = set(doc2.lower().split())\n",
        " intersection = words_doc1.intersection(words_doc2)\n",
        " union = words_doc1.union(words_doc2)\n",
        " return float(len(intersection)) / len(union)"
      ],
      "metadata": {
        "id": "Y50IjAYv6Wwj"
      },
      "execution_count": null,
      "outputs": []
    },
    {
      "cell_type": "code",
      "source": [
        "#according to the second criterion similarity validation\n",
        "#here you can use it as an additional criterion, or\n",
        "# cycle through the exercises from the recommendations until the coefficient\n",
        "#will not exceed the threshold - but it will complicate\n",
        "\n",
        "print(jaccard_similarity(str(ex_user_likes), str(docu_1)))"
      ],
      "metadata": {
        "colab": {
          "base_uri": "https://localhost:8080/"
        },
        "id": "Jv6Em7Ra6Y6t",
        "outputId": "004f1eec-9ec8-4ec5-a7ec-256305e25068"
      },
      "execution_count": null,
      "outputs": [
        {
          "output_type": "stream",
          "name": "stdout",
          "text": [
            "0.125\n"
          ]
        }
      ]
    },
    {
      "cell_type": "markdown",
      "source": [
        "**Task generation**"
      ],
      "metadata": {
        "id": "hyG3hS_Y6cZ7"
      }
    },
    {
      "cell_type": "code",
      "source": [
        "\"\"\"\"\"\"\"\"\"\"\"\"\"\"\"\"\"\"\"\"\"\"\"\"\"\"\"\"\"\n",
        "We choose the current level of formation of reading skills in the child. Entered manually, because initial screening test\n",
        "does not provide level information. Possible options:\n",
        "\n",
        "reading_level='letter'\n",
        "reading_level='syllable'\n",
        "reading_level='word'\n",
        "reading_level='phrase'\n",
        "reading_level='sentence'\n",
        "\n",
        "there is a corpus of text for assignments for each reader level. For letters - just an alphabet that is randomly generated,\n",
        "for syllables - a corpus of the most frequent syllables, for words - a list of words, for phrases and sentences - full texts\n",
        "\n",
        "in this version, I try it on the proposal, because this is the most difficult part, as if there was something coherent and adequate\n",
        "\n",
        "\"\"\"\"\"\"\"\"\"\"\"\"\"\"\"\"\"\"\"\"\"\"\"\"\"\"\"\"\"\n",
        "\n",
        "reading_level='sentence'"
      ],
      "metadata": {
        "id": "qqDjNZM66aki"
      },
      "execution_count": null,
      "outputs": []
    },
    {
      "cell_type": "code",
      "source": [
        "if reading_level=='sentence' or reading_level=='phrase':\n",
        "  text = open('tol.txt', encoding='utf8').read()\n",
        "#else:\n",
        "   # open another file with the corpus\n",
        "corpus = text.split()"
      ],
      "metadata": {
        "id": "SiBfKawg6huy"
      },
      "execution_count": null,
      "outputs": []
    },
    {
      "cell_type": "code",
      "source": [
        "def make_pairs(corpus):\n",
        "    for i in range(len(corpus)-1):\n",
        "        yield (corpus[i], corpus[i+1])\n",
        "pairs = make_pairs(corpus)"
      ],
      "metadata": {
        "id": "b5u5gSKs6nQG"
      },
      "execution_count": null,
      "outputs": []
    },
    {
      "cell_type": "code",
      "source": [
        "word_dict = {}\n",
        "for word_1, word_2 in pairs:\n",
        "    if word_1 in word_dict.keys():\n",
        "        word_dict[word_1].append(word_2)\n",
        "    else:\n",
        "        word_dict[word_1] = [word_2]"
      ],
      "metadata": {
        "id": "ePuO0Z0v6o_X"
      },
      "execution_count": null,
      "outputs": []
    },
    {
      "cell_type": "code",
      "source": [
        "first_word = np.random.choice(corpus)\n",
        "while first_word.islower():\n",
        "    first_word = np.random.choice(corpus)\n",
        "chain = [first_word]\n",
        "\n",
        "n_words = 8 #if a sentence is needed - it is better to put from 8, if the phrase is 2-3 words\n",
        "\n",
        "for i in range(n_words):\n",
        "    chain.append(np.random.choice(word_dict[chain[-1]]))\n",
        "print(' '.join(chain))"
      ],
      "metadata": {
        "colab": {
          "base_uri": "https://localhost:8080/"
        },
        "id": "Jrh6OxnC6qbR",
        "outputId": "3e9a78f5-6876-49b0-95d4-896ba64ef33c"
      },
      "execution_count": null,
      "outputs": [
        {
          "output_type": "stream",
          "name": "stdout",
          "text": [
            "Серёжа чижа в клетку и сетку оставил. Поглядел после\n"
          ]
        }
      ]
    }
  ]
}